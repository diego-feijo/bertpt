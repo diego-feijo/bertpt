{
  "nbformat": 4,
  "nbformat_minor": 0,
  "metadata": {
    "colab": {
      "name": "Fine-tuning ALBERT for Fake News Detection.ipynb",
      "provenance": [],
      "collapsed_sections": [],
      "include_colab_link": true
    },
    "kernelspec": {
      "name": "python3",
      "display_name": "Python 3"
    },
    "accelerator": "TPU"
  },
  "cells": [
    {
      "cell_type": "markdown",
      "metadata": {
        "id": "view-in-github",
        "colab_type": "text"
      },
      "source": [
        "<a href=\"https://colab.research.google.com/github/diego-feijo/bertpt/blob/master/Fine_tuning_ALBERT_for_Fake_News_Detection.ipynb\" target=\"_parent\"><img src=\"https://colab.research.google.com/assets/colab-badge.svg\" alt=\"Open In Colab\"/></a>"
      ]
    },
    {
      "cell_type": "markdown",
      "metadata": {
        "id": "1tHKrofLrz-u",
        "colab_type": "text"
      },
      "source": [
        "# Fine-tuning ALBERT for Fake News Detection\n",
        "This kernel shows how to fine-tune an ALBERT model to a simple binary classification task.\n",
        "\n",
        "It uses Fake.BR dataset to distinct Fake from True News. \n",
        "\n",
        "This is our script:\n",
        "1. Setting Up the Environment\n",
        "2. Download and Prepare Fake.BR Dataset\n",
        "3. Create K-Folds for Evaluation\n",
        "4. Fine-Tunning (Training)\n",
        "5. Saving the Results to a Google Spreadsheet\n",
        "\n",
        "Colab TPU requires a [Google Cloud Storage bucket](https://cloud.google.com/tpu/docs/quickstart). New users have [$300 free credit](https://cloud.google.com/free/) for one year.\n",
        "\n",
        "It is mandatory to set BUCKET_NAME to be able to run on TPU. \n",
        "BUCKET_NAME is not needed if running on GPU."
      ]
    },
    {
      "cell_type": "markdown",
      "metadata": {
        "id": "WvHpXy0miRyj",
        "colab_type": "text"
      },
      "source": [
        "MIT License\n",
        "\n",
        "Copyright (c) [2019] [Diego de Vargas Feijo]\n",
        "\n",
        "Permission is hereby granted, free of charge, to any person obtaining a copy of this software and associated documentation files (the \"Software\"), to deal in the Software without restriction, including without limitation the rights to use, copy, modify, merge, publish, distribute, sublicense, and/or sell copies of the Software, and to permit persons to whom the Software is furnished to do so, subject to the following conditions:\n",
        "\n",
        "The above copyright notice and this permission notice shall be included in all copies or substantial portions of the Software.\n",
        "\n",
        "THE SOFTWARE IS PROVIDED \"AS IS\", WITHOUT WARRANTY OF ANY KIND, EXPRESS OR IMPLIED, INCLUDING BUT NOT LIMITED TO THE WARRANTIES OF MERCHANTABILITY, FITNESS FOR A PARTICULAR PURPOSE AND NONINFRINGEMENT. IN NO EVENT SHALL THE AUTHORS OR COPYRIGHT HOLDERS BE LIABLE FOR ANY CLAIM, DAMAGES OR OTHER LIABILITY, WHETHER IN AN ACTION OF CONTRACT, TORT OR OTHERWISE, ARISING FROM, OUT OF OR IN CONNECTION WITH THE SOFTWARE OR THE USE OR OTHER DEALINGS IN THE SOFTWARE."
      ]
    },
    {
      "cell_type": "markdown",
      "metadata": {
        "id": "8Ra_4jh1h88M",
        "colab_type": "text"
      },
      "source": [
        "## Step 1: Setting Up the Environment\n",
        "Install dependencies, import libraries and authorize using Google Account."
      ]
    },
    {
      "cell_type": "code",
      "metadata": {
        "id": "8XxT8egvAwCx",
        "colab_type": "code",
        "colab": {}
      },
      "source": [
        "!pip install --upgrade -q gspread sentencepiece\n",
        "\n",
        "import json\n",
        "import os\n",
        "import logging\n",
        "import tensorflow as tf\n",
        "import pandas as pd\n",
        "import numpy as np\n",
        "import sys\n",
        "import re\n",
        "import unicodedata\n",
        "import sklearn\n",
        "import gspread\n",
        "\n",
        "# configure logging\n",
        "log = logging.getLogger('tensorflow')\n",
        "log.setLevel(logging.INFO)\n",
        "\n",
        "from google.colab import auth\n",
        "auth.authenticate_user()\n",
        "\n",
        "from oauth2client.client import GoogleCredentials\n",
        "gc = gspread.authorize(GoogleCredentials.get_application_default())\n",
        "\n",
        "if 'COLAB_TPU_ADDR' in os.environ:\n",
        "  log.info(\"Using TPU runtime\")\n",
        "  USE_TPU = True\n",
        "  TPU_ADDRESS = 'grpc://' + os.environ['COLAB_TPU_ADDR']\n",
        "\n",
        "  with tf.Session(TPU_ADDRESS) as session:\n",
        "    log.info('TPU address is ' + TPU_ADDRESS)\n",
        "    # Upload credentials to TPU.\n",
        "    with open('/content/adc.json', 'r') as f:\n",
        "      auth_info = json.load(f)\n",
        "    tf.contrib.cloud.configure_gcs(session, credentials=auth_info)\n",
        "    \n",
        "else:\n",
        "  log.warning('Not connected to TPU runtime')\n",
        "  USE_TPU = False"
      ],
      "execution_count": 0,
      "outputs": []
    },
    {
      "cell_type": "code",
      "metadata": {
        "id": "hgm8fd6AwmpF",
        "colab_type": "code",
        "colab": {}
      },
      "source": [
        "!test -d ALBERT || git clone https://github.com/google-research/ALBERT.git ALBERT\n",
        "\n",
        "# Avoid deprecated warnings\n",
        "!sed -i 's/tf.logging/tf.compat.v1.logging/' ALBERT/*.py\n",
        "!sed -i 's/tf.app.run/tf.compat.v1.app.run/' ALBERT/*.py\n",
        "\n",
        "# Remove invalid import\n",
        "!sed -i 's/from __future__ import google_type_annotations/# from __future__ import google_type_annotations/' ALBERT/classifier_utils.py\n",
        "# Mute too verbose output\n",
        "!sed -i 's/tf.compat.v1.logging.info/# tf.compat.v1.logging.info/' ALBERT/tokenization.py"
      ],
      "execution_count": 0,
      "outputs": []
    },
    {
      "cell_type": "code",
      "metadata": {
        "id": "j2WV3_5QYXlY",
        "colab_type": "code",
        "colab": {}
      },
      "source": [
        "if not 'ALBERT' in sys.path:\n",
        "  sys.path += ['ALBERT']\n",
        "\n",
        "import tokenization"
      ],
      "execution_count": 0,
      "outputs": []
    },
    {
      "cell_type": "code",
      "metadata": {
        "id": "cFucEym259hw",
        "colab_type": "code",
        "colab": {}
      },
      "source": [
        "NAME = \"fakebr\"\n",
        "OUTPUT_DIR = \"{}_output\".format(NAME)\n",
        "\n",
        "LOWER = False # @param {type: \"boolean\"}\n",
        "\n",
        "BUCKET_NAME = \"<Insert Bucket Name Here>\" # @param {type: \"string\"}\n",
        "MODEL_NAME = \"albert_cased_L-12_H-768_A-12\" # @param {type: \"string\"}"
      ],
      "execution_count": 0,
      "outputs": []
    },
    {
      "cell_type": "markdown",
      "metadata": {
        "id": "dxKtH9eziYQ5",
        "colab_type": "text"
      },
      "source": [
        "## Step 2: Download and Prepare Fake.BR Dataset\n"
      ]
    },
    {
      "cell_type": "code",
      "metadata": {
        "id": "W6-Ij7D1kEzX",
        "colab_type": "code",
        "colab": {}
      },
      "source": [
        "!test -d Fake.br-Corpus || git clone https://github.com/roneysco/Fake.br-Corpus.git"
      ],
      "execution_count": 0,
      "outputs": []
    },
    {
      "cell_type": "code",
      "metadata": {
        "id": "hKtGaz80vREL",
        "colab_type": "code",
        "colab": {}
      },
      "source": [
        "DATA_DIR = 'Fake.br-Corpus/size_normalized_texts/'\n",
        "\n",
        "def read_dir(directory, news_set):\n",
        "  src_dir = os.path.join(directory, news_set)\n",
        "  news_list = []\n",
        "  for filename in os.listdir(src_dir):\n",
        "    if filename.endswith('.txt'):\n",
        "      with open(os.path.join(src_dir, filename)) as f:\n",
        "        text = f.read()\n",
        "        news_list.append([text, news_set])\n",
        "  return news_list\n",
        "\n",
        "fake_list = read_dir(DATA_DIR, 'fake')\n",
        "true_list = read_dir(DATA_DIR, 'true')\n",
        "dataset = fake_list + true_list\n",
        "\n",
        "df = pd.DataFrame(dataset, columns=['text', 'label'])"
      ],
      "execution_count": 0,
      "outputs": []
    },
    {
      "cell_type": "code",
      "metadata": {
        "id": "5Q-NE6SgjJYA",
        "colab_type": "code",
        "colab": {}
      },
      "source": [
        "import re\n",
        "import unicodedata\n",
        "\n",
        "# Converts the unicode file to ascii\n",
        "def unicode_to_ascii(s):\n",
        "    return ''.join(c for c in unicodedata.normalize('NFD', s)\n",
        "        if unicodedata.category(c) != 'Mn')\n",
        "  \n",
        "\n",
        "re_line_control = re.compile(r'[\\t\\n\\r]')\n",
        "re_trim = re.compile(r'\\s+', re.UNICODE)\n",
        "re_quotes_1 = re.compile(r\"(?u)(^|\\W)[‘’′`']\", re.UNICODE)\n",
        "re_quotes_2 = re.compile(r\"(?u)[‘’`′'](\\W|$)\", re.UNICODE)\n",
        "re_quotes_3 = re.compile(r'(?u)[‘’`′“”]', re.UNICODE)\n",
        "re_doublequotes_1 = re.compile(r'(\\\"\\\")')\n",
        "re_doublequotes_2 = re.compile(r'(\\'\\')')\n",
        "\n",
        "\n",
        "def normalize_text(text, lowercase=False):\n",
        "  \"\"\"Apply all regex above to a given string.\n",
        "  Args:\n",
        "    text: Text content of a section\n",
        "\n",
        "  Returns:\n",
        "    Text after being removed numbers, tags with each token separated by a\n",
        "    single space\"\"\"\n",
        "  text = str(text).rstrip().strip()\n",
        "  text = re_line_control.sub(' ', text)\n",
        "  text = re_trim.sub(' ', text)\n",
        "  if lowercase:\n",
        "    text = text.lower()\n",
        "  text = text.encode(\"utf-8\", \"ignore\").decode()\n",
        "  text = text.replace('\\xa0', ' ')\n",
        "  text = re_quotes_1.sub(r'\\1\"', text)\n",
        "  text = re_quotes_2.sub(r'\"\\1', text)\n",
        "  text = re_quotes_3.sub('\"', text)\n",
        "  text = re.sub('\"', '', text)\n",
        "  text = re_doublequotes_1.sub('\\\"', text)\n",
        "  text = re_doublequotes_2.sub('\\'', text)\n",
        "  return text\n"
      ],
      "execution_count": 0,
      "outputs": []
    },
    {
      "cell_type": "code",
      "metadata": {
        "id": "lHgXSq1CRGEY",
        "colab_type": "code",
        "colab": {}
      },
      "source": [
        "category_to_id = {'true': 0, 'fake': 1}\n",
        "id_to_category = {0: 'true', 1: 'fake'}\n",
        "\n",
        "train_x = pd.DataFrame({\n",
        "    'id': [i for i in range(df.shape[0])],\n",
        "    'label': df['label'].replace(category_to_id),\n",
        "    'dummy': ['a'] * df.shape[0],\n",
        "    'text': df['text'].apply(lambda x: normalize_text(x, LOWER))})\n",
        "\n",
        "train_x = train_x.sample(frac=1, random_state=42).reset_index(drop=True)\n",
        "train_x.head()"
      ],
      "execution_count": 0,
      "outputs": []
    },
    {
      "cell_type": "code",
      "metadata": {
        "id": "Bkzn49rq2jEJ",
        "colab_type": "code",
        "colab": {}
      },
      "source": [
        "VOC_FNAME = 'tokenizer.vocab'\n",
        "MDL_FNAME = \"tokenizer.model\"\n",
        "\n",
        "!test -f tokenizer.tar.gz || gsutil -m cp gs://{BUCKET_NAME}/{MODEL_NAME}/tokenizer.tar.gz .\n",
        "!test -f tokenizer.model || tar xzvf tokenizer.tar.gz"
      ],
      "execution_count": 0,
      "outputs": []
    },
    {
      "cell_type": "code",
      "metadata": {
        "id": "JlvwXvwZ-cZI",
        "colab_type": "code",
        "colab": {}
      },
      "source": [
        "testcase = 'kkkkk boooa tarde'\n",
        "bert_tokenizer = tokenization.FullTokenizer(VOC_FNAME, do_lower_case=LOWER, spm_model_file=MDL_FNAME)\n",
        "print(bert_tokenizer.tokenize(testcase))\n",
        "\n",
        "a = pd.Series([len(bert_tokenizer.tokenize(row['text'])) for index, row in train_x.iterrows()])\n",
        "stats = a.describe()\n",
        "print(stats)"
      ],
      "execution_count": 0,
      "outputs": []
    },
    {
      "cell_type": "markdown",
      "metadata": {
        "id": "fIXMEzNlimMV",
        "colab_type": "text"
      },
      "source": [
        "## Step 3: Create K-Folds for Evaluation\n",
        "We will split our training set in five partitions. At each fold, four will be used for training and one for evaluation."
      ]
    },
    {
      "cell_type": "code",
      "metadata": {
        "id": "IxcyB8-LPiB2",
        "colab_type": "code",
        "colab": {}
      },
      "source": [
        "from sklearn.model_selection import StratifiedKFold, train_test_split\n",
        "\n",
        "random_state = 42\n",
        "\n",
        "n_folds = 5\n",
        "\n",
        "skf = StratifiedKFold(\n",
        "    n_splits=n_folds,\n",
        "    random_state=random_state,\n",
        "    shuffle=True)\n",
        "\n",
        "folds = []\n",
        "\n",
        "for train_index, test_index in skf.split(train_x, train_x['label']):\n",
        "  folds.append((train_index, test_index))"
      ],
      "execution_count": 0,
      "outputs": []
    },
    {
      "cell_type": "code",
      "metadata": {
        "id": "vTuNWrCx6WQ4",
        "colab_type": "code",
        "colab": {}
      },
      "source": [
        "def generate_tsv(X_train, X_test):\n",
        "  \"\"\" Create TSV files in the format expected by BERT \"\"\"\n",
        "  tf.gfile.MakeDirs('data/CoLA')\n",
        "  !test -f data/CoLA/train.tsv || rm data/CoLA/*.tsv\n",
        "\n",
        "  # We also separate 15% for evaluation during the training\n",
        "  X_train, X_val = train_test_split(X_train, test_size=0.15, random_state=random_state)\n",
        "  # Saving dataframes to .tsv format as required by BERT\n",
        "  X_train.to_csv('data/CoLA/train.tsv', sep='\\t', index=False, header=False)\n",
        "  X_val.to_csv('data/CoLA/dev.tsv', sep='\\t', index=False, header=False)\n",
        "  X_test[['id', 'text']].to_csv('data/CoLA/test.tsv', sep='\\t', index=False, header=True)\n",
        "  # Remove previous fine tuning training data\n",
        "  !gsutil -m rm -rf gs://{BUCKET_NAME}/{MODEL_NAME}/{OUTPUT_DIR}/"
      ],
      "execution_count": 0,
      "outputs": []
    },
    {
      "cell_type": "code",
      "metadata": {
        "id": "MQRSEXtCFT_Q",
        "colab_type": "code",
        "colab": {}
      },
      "source": [
        "def train():\n",
        "  BERT_MODEL_PATH = \"gs://{}/{}\".format(BUCKET_NAME, MODEL_NAME)\n",
        "  checkpoint = tf.train.latest_checkpoint(BERT_MODEL_PATH)\n",
        "  CMD = \"python3 ALBERT/run_classifier.py \" + \\\n",
        "    \"--vocab_file={} \".format(VOC_FNAME) + \\\n",
        "    \"--spm_model_file={} \".format(MDL_FNAME) + \\\n",
        "    \"--albert_config_file={}/albert_config.json \".format(BERT_MODEL_PATH) + \\\n",
        "    \"--init_checkpoint={} \".format(checkpoint) + \\\n",
        "    \"--task_name=cola \" + \\\n",
        "    \"--do_train=true \" + \\\n",
        "    \"--do_eval=true \" + \\\n",
        "    \"--do_predict=true \" + \\\n",
        "    \"--data_dir=data/ \" + \\\n",
        "    \"--max_seq_length={} \".format(SEQ_LEN) + \\\n",
        "    \"--train_batch_size={} \".format(BATCH_SIZE) + \\\n",
        "    \"--learning_rate={} \".format(LEARNING_RATE) + \\\n",
        "    \"--num_train_epochs={} \".format(EPOCH) + \\\n",
        "    \"--warmup_proportion=0.1 \" + \\\n",
        "    \"--save_checkpoint_steps=1000 \" + \\\n",
        "    \"--iterations_per_loop=1000 \" + \\\n",
        "    \"--output_dir={}/{}/ \".format(BERT_MODEL_PATH, OUTPUT_DIR) + \\\n",
        "    \"--use_tpu={} \".format(USE_TPU) + \\\n",
        "    \"--tpu_name={} \".format(TPU_ADDRESS) + \\\n",
        "    \"--do_lower_case={} \".format(LOWER)\n",
        "  !$CMD"
      ],
      "execution_count": 0,
      "outputs": []
    },
    {
      "cell_type": "code",
      "metadata": {
        "id": "UFRMWdYK4TJc",
        "colab_type": "code",
        "colab": {}
      },
      "source": [
        "def print_divergences(test_x, y_pred, y_true):\n",
        "  counter = 0\n",
        "  total = test_x.shape[0]\n",
        "  assert total == y_pred.shape[0]\n",
        "  assert total == y_true.shape[0]\n",
        "  for i in range(total):\n",
        "    if y_true[i] != y_pred[i]:\n",
        "      counter += 1\n",
        "      print(test_x['text'].iloc[i])\n",
        "      print('Predicted: {} ; Should be: {}\\n'.format(\n",
        "          id_to_category[y_pred[i]],\n",
        "          id_to_category[y_true[i]]))\n",
        "  print('Misclassifications: {}\\tTotal: {}\\tRate: {:8.2%}'.format(counter, total, 1(counter/total)))"
      ],
      "execution_count": 0,
      "outputs": []
    },
    {
      "cell_type": "code",
      "metadata": {
        "id": "RtdzsW3DNH_J",
        "colab_type": "code",
        "colab": {}
      },
      "source": [
        "def prepare_results(X_test):\n",
        "  \"\"\" Generate/Print results according to the task\n",
        "  Logistic Regression: Accuracy, Weighted F1\"\"\"\n",
        "  !test -d bert_output || mkdir bert_output\n",
        "  !gsutil -m mv gs://{BUCKET_NAME}/{MODEL_NAME}/{OUTPUT_DIR}/test_results.tsv bert_output/\n",
        "  df_results = pd.read_csv('bert_output/test_results.tsv', sep='\\t', header=None)\n",
        "  y_pred = df_results.idxmax(axis=1).to_numpy()\n",
        "  y_true = X_test['label'].to_numpy()\n",
        "\n",
        "  # print_divergences(X_test, y_pred, y_true)\n",
        "\n",
        "  weighted_f1 = sklearn.metrics.f1_score(y_true, y_pred, average='weighted')\n",
        "  accuracy = sklearn.metrics.accuracy_score(y_true, y_pred)\n",
        "  print('\\nFold {:3}\\tEpoch {:4}'.format(n+1, EPOCH))\n",
        "  print('Accuracy\\tWeighted F1')\n",
        "  print('--------\\t-----------')\n",
        "  print('{:8.2%}\\t{:11.3f}\\n\\n'.format(accuracy, weighted_f1))\n",
        "  return accuracy, weighted_f1"
      ],
      "execution_count": 0,
      "outputs": []
    },
    {
      "cell_type": "code",
      "metadata": {
        "id": "bfkESAMTdebF",
        "colab_type": "code",
        "colab": {}
      },
      "source": [
        "from google.colab import auth\n",
        "auth.authenticate_user()\n",
        "\n",
        "from oauth2client.client import GoogleCredentials\n",
        "gc = gspread.authorize(GoogleCredentials.get_application_default())\n",
        "\n",
        "if 'COLAB_TPU_ADDR' in os.environ:\n",
        "  log.info(\"Using TPU runtime\")\n",
        "  USE_TPU = True\n",
        "  TPU_ADDRESS = 'grpc://' + os.environ['COLAB_TPU_ADDR']\n",
        "\n",
        "  with tf.Session(TPU_ADDRESS) as session:\n",
        "    log.info('TPU address is ' + TPU_ADDRESS)\n",
        "    # Upload credentials to TPU.\n",
        "    with open('/content/adc.json', 'r') as f:\n",
        "      auth_info = json.load(f)\n",
        "    tf.contrib.cloud.configure_gcs(session, credentials=auth_info)\n",
        "    \n",
        "else:\n",
        "  log.warning('Not connected to TPU runtime')\n",
        "  USE_TPU = False"
      ],
      "execution_count": 0,
      "outputs": []
    },
    {
      "cell_type": "markdown",
      "metadata": {
        "id": "dLejTBFCjfMg",
        "colab_type": "text"
      },
      "source": [
        "## Step 4: Fine-Tunning (Training)\n",
        "For each fold, we will train a different model and evaluate it.\n",
        "Then we will take the average from the results."
      ]
    },
    {
      "cell_type": "code",
      "metadata": {
        "id": "q9rNaL9iV6Ny",
        "colab_type": "code",
        "colab": {}
      },
      "source": [
        "BATCH_SIZE = 32\n",
        "LEARNING_RATE = 4e-5\n",
        "SEQ_LEN = min(int(stats['max']), 512)\n",
        "\n",
        "results = []\n",
        "\n",
        "for n in range(n_folds):\n",
        "  # 5-fold cross-validation\n",
        "  train_index, test_index = folds[n]      # Folds were already split\n",
        "  X_train = train_x.loc[train_index]      # Training is 4/5 of total training\n",
        "  X_test = train_x.loc[test_index]        # Test is the remaining 1/5 split\n",
        "\n",
        "  # Generate TSV files\n",
        "  generate_tsv(X_train, X_test)\n",
        "\n",
        "  # Repeat training for this range of epochs\n",
        "  for EPOCH in range(3, 4):\n",
        "    # Training will be resumed from last trained epoch\n",
        "    train()\n",
        "\n",
        "    metric1, metric2 = prepare_results(X_test)\n",
        "    results.append([n+1, EPOCH, metric1, metric2])\n",
        "\n",
        "!gsutil -m rm -r gs://{BUCKET_NAME}/{MODEL_NAME}/{OUTPUT_DIR}/"
      ],
      "execution_count": 0,
      "outputs": []
    },
    {
      "cell_type": "markdown",
      "metadata": {
        "id": "C167PWbYlMXX",
        "colab_type": "text"
      },
      "source": [
        "## Step 5: Saving the Results to a Google Spreadsheet\n",
        "Create a SpreadSheet called \"albert_fakebr\" and save our results. If the spreadsheet already exists, it will just append a row."
      ]
    },
    {
      "cell_type": "code",
      "metadata": {
        "id": "pmrHrmEbOFUv",
        "colab_type": "code",
        "colab": {}
      },
      "source": [
        "df_final = pd.DataFrame({\n",
        "    'n': np.array([r[0] for r in results]),\n",
        "    'epoch': np.array([r[1] for r in results]),\n",
        "    'accuracy': np.array([r[2] for r in results]),\n",
        "    'weighted_f1': np.array([r[3] for r in results])})\n",
        "sum_df = df_final.groupby('epoch')[['accuracy', 'weighted_f1']].mean()\n",
        "print(sum_df)"
      ],
      "execution_count": 0,
      "outputs": []
    },
    {
      "cell_type": "code",
      "metadata": {
        "id": "bugPykg6mwIa",
        "colab_type": "code",
        "colab": {}
      },
      "source": [
        "import string\n",
        "\n",
        "# Just in case that the authetication has expired\n",
        "auth.authenticate_user()\n",
        "gc = gspread.authorize(GoogleCredentials.get_application_default())\n",
        "\n",
        "column_names = list(string.ascii_uppercase)\n",
        "column_values = {\n",
        "    'Type': 'Albert',\n",
        "    'Seq Len': SEQ_LEN,\n",
        "    'Folds': n_folds,\n",
        "    'Fold': 'N/A',\n",
        "    'BS': BATCH_SIZE,\n",
        "    'LR': LEARNING_RATE,\n",
        "    'Model': 'albert_cased_L-12_H-768_A-12',\n",
        "    'Casing': 'Uncased' if LOWER else 'Cased',\n",
        "    'Accuracy': 'N/A',\n",
        "    'Weighted F1': 'N/A',\n",
        "  }\n",
        "\n",
        "try:\n",
        "  worksheet = gc.open(\"albert_\" + NAME).sheet1\n",
        "except gspread.SpreadsheetNotFound:\n",
        "  worksheet = gc.create(\"albert_\" + NAME).sheet1\n",
        "  \n",
        "  cell_list = worksheet.range('A1:{}1'.format(column_names[len(column_values)]))\n",
        "  for i, key in enumerate(column_values.keys()):\n",
        "    cell_list[i].value = key\n",
        "  # Update in batch\n",
        "  worksheet.update_cells(cell_list)\n",
        "\n",
        "def next_available_row(worksheet):\n",
        "  cells = worksheet.col_values(1)\n",
        "  return len(cells) + 1\n",
        "\n",
        "for index, row in sum_df.iterrows():\n",
        "  metric1 = row['accuracy']\n",
        "  metric2 = row['weighted_f1']\n",
        "\n",
        "  column_values['Fold'] = index\n",
        "  column_values['Accuracy'] = metric1\n",
        "  column_values['Weighted F1'] = metric2\n",
        "\n",
        "  next_row = next_available_row(worksheet)\n",
        "  # print(next_row)\n",
        "\n",
        "  cell_list = worksheet.range('A{}:{}{}'.format(next_row, column_names[len(column_values)], next_row))\n",
        "  for i, value in enumerate(column_values.values()):\n",
        "    cell_list[i].value = value\n",
        "  # Update in batch\n",
        "  worksheet.update_cells(cell_list)"
      ],
      "execution_count": 0,
      "outputs": []
    }
  ]
}